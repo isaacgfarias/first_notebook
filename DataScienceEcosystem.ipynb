{
 "cells": [
  {
   "cell_type": "markdown",
   "id": "25959241-9d5e-46c1-afde-a351ccdebc4a",
   "metadata": {
    "tags": []
   },
   "source": [
    "# Data Science Tools and Ecosystem"
   ]
  },
  {
   "cell_type": "markdown",
   "id": "b1cf72dc-7de6-4afe-bfed-ebcc6b27bad5",
   "metadata": {},
   "source": [
    "## Author\n",
    "Isaac Gurgel"
   ]
  },
  {
   "cell_type": "markdown",
   "id": "1409677f-62fc-4bcd-b32d-df39106886b9",
   "metadata": {
    "tags": []
   },
   "source": [
    "**Objectives**\n",
    "- List programming languages.\n",
    "- List python libraries.\n",
    "- List open-source data science tools.\n",
    "- Try out some python code in jupyter cells."
   ]
  },
  {
   "cell_type": "markdown",
   "id": "3760202d-b1b8-4387-aecd-ec29e0b3b55d",
   "metadata": {},
   "source": [
    "In this notebook, data science tools and ecosystem are summarized."
   ]
  },
  {
   "cell_type": "markdown",
   "id": "17350b34-72af-4e58-8ab6-60e664095b85",
   "metadata": {},
   "source": [
    "Some of the common languages that data scientists use are:\n",
    "1. Python\n",
    "2. R\n",
    "3. Julia\n",
    "4. Sql"
   ]
  },
  {
   "cell_type": "markdown",
   "id": "c549e509-8d6b-47ed-8cfd-3e3b17322773",
   "metadata": {
    "tags": []
   },
   "source": [
    "Some of the commonly used libraries used by Data Scientists include:\n",
    "1. Tensorflow\n",
    "2. MatPlotLib\n",
    "3. Scikit Learn"
   ]
  },
  {
   "cell_type": "markdown",
   "id": "cfad99f8-3641-4cbe-8102-41d7e67bfb81",
   "metadata": {
    "tags": []
   },
   "source": [
    "| Data Science Tools |\n",
    "| - |\n",
    "| Apache Spark |\n",
    "| Jupyter Lab |\n",
    "| RStudio |\n",
    "| Visual Studio Code | "
   ]
  },
  {
   "cell_type": "markdown",
   "id": "54283fe9-d14f-4287-8fcb-7a80aa5184d1",
   "metadata": {
    "tags": []
   },
   "source": [
    "### Below are a few examples of evaluating arithmetic expressions in Python"
   ]
  },
  {
   "cell_type": "code",
   "execution_count": 28,
   "id": "d63057e7-bb56-4ef5-8892-7a18be2347c4",
   "metadata": {
    "tags": []
   },
   "outputs": [
    {
     "data": {
      "text/plain": [
       "17"
      ]
     },
     "execution_count": 28,
     "metadata": {},
     "output_type": "execute_result"
    }
   ],
   "source": [
    "# This a simple arithmetic expression to mutiply then add integers\n",
    "(3*4)+5"
   ]
  },
  {
   "cell_type": "code",
   "execution_count": 30,
   "id": "7ad16088-c7ab-4eae-be11-8682a6ae2b73",
   "metadata": {
    "tags": []
   },
   "outputs": [
    {
     "name": "stdout",
     "output_type": "stream",
     "text": [
      "3.3 hour(s)\n"
     ]
    }
   ],
   "source": [
    "# Minute to hour conversor code.\n",
    "min_hour = lambda min : round(min / 60, 1)\n",
    "print(str(min_hour(200)) + \" hour(s)\")"
   ]
  }
 ],
 "metadata": {
  "kernelspec": {
   "display_name": "Python 3 (ipykernel)",
   "language": "python",
   "name": "python3"
  },
  "language_info": {
   "codemirror_mode": {
    "name": "ipython",
    "version": 3
   },
   "file_extension": ".py",
   "mimetype": "text/x-python",
   "name": "python",
   "nbconvert_exporter": "python",
   "pygments_lexer": "ipython3",
   "version": "3.11.7"
  }
 },
 "nbformat": 4,
 "nbformat_minor": 5
}
